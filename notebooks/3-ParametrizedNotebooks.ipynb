{
 "cells": [
  {
   "cell_type": "code",
   "execution_count": 31,
   "metadata": {},
   "outputs": [],
   "source": [
    "import os\n",
    "import pandas as pd\n",
    "from tqdm import tqdm"
   ]
  },
  {
   "cell_type": "markdown",
   "metadata": {},
   "source": [
    "# Split Data"
   ]
  },
  {
   "cell_type": "markdown",
   "metadata": {},
   "source": [
    "## Parameters for Papermill"
   ]
  },
  {
   "cell_type": "code",
   "execution_count": 32,
   "metadata": {
    "tags": [
     "parameters"
    ]
   },
   "outputs": [],
   "source": [
    "filename = \"data/orig/TS.CF.OFFSHORE.30yr.date.txt\""
   ]
  },
  {
   "cell_type": "markdown",
   "metadata": {},
   "source": [
    "## Load Data"
   ]
  },
  {
   "cell_type": "code",
   "execution_count": 33,
   "metadata": {},
   "outputs": [
    {
     "data": {
      "text/html": [
       "<div>\n",
       "<style scoped>\n",
       "    .dataframe tbody tr th:only-of-type {\n",
       "        vertical-align: middle;\n",
       "    }\n",
       "\n",
       "    .dataframe tbody tr th {\n",
       "        vertical-align: top;\n",
       "    }\n",
       "\n",
       "    .dataframe thead th {\n",
       "        text-align: right;\n",
       "    }\n",
       "</style>\n",
       "<table border=\"1\" class=\"dataframe\">\n",
       "  <thead>\n",
       "    <tr style=\"text-align: right;\">\n",
       "      <th></th>\n",
       "      <th>Time step</th>\n",
       "      <th>Date</th>\n",
       "      <th>Year</th>\n",
       "      <th>Month</th>\n",
       "      <th>Day</th>\n",
       "      <th>Hour</th>\n",
       "      <th>BE</th>\n",
       "      <th>DK</th>\n",
       "      <th>DE</th>\n",
       "      <th>NL</th>\n",
       "      <th>UK</th>\n",
       "    </tr>\n",
       "  </thead>\n",
       "  <tbody>\n",
       "    <tr>\n",
       "      <th>0</th>\n",
       "      <td>1</td>\n",
       "      <td>01/01/1986 00:00</td>\n",
       "      <td>1986</td>\n",
       "      <td>1</td>\n",
       "      <td>1</td>\n",
       "      <td>0</td>\n",
       "      <td>0.65206</td>\n",
       "      <td>0.69450</td>\n",
       "      <td>0.64662</td>\n",
       "      <td>0.65980</td>\n",
       "      <td>0.44185</td>\n",
       "    </tr>\n",
       "    <tr>\n",
       "      <th>1</th>\n",
       "      <td>2</td>\n",
       "      <td>01/01/1986 01:00</td>\n",
       "      <td>1986</td>\n",
       "      <td>1</td>\n",
       "      <td>1</td>\n",
       "      <td>1</td>\n",
       "      <td>0.60341</td>\n",
       "      <td>0.67387</td>\n",
       "      <td>0.63756</td>\n",
       "      <td>0.64448</td>\n",
       "      <td>0.42026</td>\n",
       "    </tr>\n",
       "    <tr>\n",
       "      <th>2</th>\n",
       "      <td>3</td>\n",
       "      <td>01/01/1986 02:00</td>\n",
       "      <td>1986</td>\n",
       "      <td>1</td>\n",
       "      <td>1</td>\n",
       "      <td>2</td>\n",
       "      <td>0.52151</td>\n",
       "      <td>0.65254</td>\n",
       "      <td>0.62826</td>\n",
       "      <td>0.62745</td>\n",
       "      <td>0.38456</td>\n",
       "    </tr>\n",
       "    <tr>\n",
       "      <th>3</th>\n",
       "      <td>4</td>\n",
       "      <td>01/01/1986 03:00</td>\n",
       "      <td>1986</td>\n",
       "      <td>1</td>\n",
       "      <td>1</td>\n",
       "      <td>3</td>\n",
       "      <td>0.46460</td>\n",
       "      <td>0.64079</td>\n",
       "      <td>0.62038</td>\n",
       "      <td>0.60343</td>\n",
       "      <td>0.34960</td>\n",
       "    </tr>\n",
       "    <tr>\n",
       "      <th>4</th>\n",
       "      <td>5</td>\n",
       "      <td>01/01/1986 04:00</td>\n",
       "      <td>1986</td>\n",
       "      <td>1</td>\n",
       "      <td>1</td>\n",
       "      <td>4</td>\n",
       "      <td>0.41794</td>\n",
       "      <td>0.62641</td>\n",
       "      <td>0.61222</td>\n",
       "      <td>0.57977</td>\n",
       "      <td>0.31395</td>\n",
       "    </tr>\n",
       "  </tbody>\n",
       "</table>\n",
       "</div>"
      ],
      "text/plain": [
       "   Time step              Date  Year  Month  Day  Hour       BE       DK  \\\n",
       "0          1  01/01/1986 00:00  1986      1    1     0  0.65206  0.69450   \n",
       "1          2  01/01/1986 01:00  1986      1    1     1  0.60341  0.67387   \n",
       "2          3  01/01/1986 02:00  1986      1    1     2  0.52151  0.65254   \n",
       "3          4  01/01/1986 03:00  1986      1    1     3  0.46460  0.64079   \n",
       "4          5  01/01/1986 04:00  1986      1    1     4  0.41794  0.62641   \n",
       "\n",
       "        DE       NL       UK  \n",
       "0  0.64662  0.65980  0.44185  \n",
       "1  0.63756  0.64448  0.42026  \n",
       "2  0.62826  0.62745  0.38456  \n",
       "3  0.62038  0.60343  0.34960  \n",
       "4  0.61222  0.57977  0.31395  "
      ]
     },
     "execution_count": 33,
     "metadata": {},
     "output_type": "execute_result"
    }
   ],
   "source": [
    "df = pd.read_table(filename)\n",
    "df.head()"
   ]
  },
  {
   "cell_type": "markdown",
   "metadata": {},
   "source": [
    "## Split Data"
   ]
  },
  {
   "cell_type": "code",
   "execution_count": 38,
   "metadata": {},
   "outputs": [
    {
     "data": {
      "text/html": [
       "<div>\n",
       "<style scoped>\n",
       "    .dataframe tbody tr th:only-of-type {\n",
       "        vertical-align: middle;\n",
       "    }\n",
       "\n",
       "    .dataframe tbody tr th {\n",
       "        vertical-align: top;\n",
       "    }\n",
       "\n",
       "    .dataframe thead th {\n",
       "        text-align: right;\n",
       "    }\n",
       "</style>\n",
       "<table border=\"1\" class=\"dataframe\">\n",
       "  <thead>\n",
       "    <tr style=\"text-align: right;\">\n",
       "      <th></th>\n",
       "      <th>Date</th>\n",
       "      <th>Country</th>\n",
       "      <th>WindFactor</th>\n",
       "    </tr>\n",
       "  </thead>\n",
       "  <tbody>\n",
       "    <tr>\n",
       "      <th>0</th>\n",
       "      <td>01/01/1986 00:00</td>\n",
       "      <td>BE</td>\n",
       "      <td>0.65206</td>\n",
       "    </tr>\n",
       "    <tr>\n",
       "      <th>1</th>\n",
       "      <td>01/01/1986 01:00</td>\n",
       "      <td>BE</td>\n",
       "      <td>0.60341</td>\n",
       "    </tr>\n",
       "    <tr>\n",
       "      <th>2</th>\n",
       "      <td>01/01/1986 02:00</td>\n",
       "      <td>BE</td>\n",
       "      <td>0.52151</td>\n",
       "    </tr>\n",
       "    <tr>\n",
       "      <th>3</th>\n",
       "      <td>01/01/1986 03:00</td>\n",
       "      <td>BE</td>\n",
       "      <td>0.46460</td>\n",
       "    </tr>\n",
       "    <tr>\n",
       "      <th>4</th>\n",
       "      <td>01/01/1986 04:00</td>\n",
       "      <td>BE</td>\n",
       "      <td>0.41794</td>\n",
       "    </tr>\n",
       "  </tbody>\n",
       "</table>\n",
       "</div>"
      ],
      "text/plain": [
       "               Date Country  WindFactor\n",
       "0  01/01/1986 00:00      BE     0.65206\n",
       "1  01/01/1986 01:00      BE     0.60341\n",
       "2  01/01/1986 02:00      BE     0.52151\n",
       "3  01/01/1986 03:00      BE     0.46460\n",
       "4  01/01/1986 04:00      BE     0.41794"
      ]
     },
     "execution_count": 38,
     "metadata": {},
     "output_type": "execute_result"
    }
   ],
   "source": [
    "dfl = df.melt(id_vars=['Date'], var_name=\"Country\", value_name=\"WindFactor\", value_vars=df.columns[6:])\n",
    "dfl.head()"
   ]
  },
  {
   "cell_type": "code",
   "execution_count": null,
   "metadata": {},
   "outputs": [],
   "source": []
  },
  {
   "cell_type": "code",
   "execution_count": 36,
   "metadata": {},
   "outputs": [
    {
     "name": "stderr",
     "output_type": "stream",
     "text": [
      "BE:   0%|                                                                                       | 0/30 [00:00<?, ?it/s]\n",
      "DK:   0%|                                                                                       | 0/30 [00:00<?, ?it/s]\n",
      "DE:   0%|                                                                                       | 0/30 [00:00<?, ?it/s]\n",
      "NL:   0%|                                                                                       | 0/30 [00:00<?, ?it/s]"
     ]
    },
    {
     "name": "stdout",
     "output_type": "stream",
     "text": [
      "               Date       BE\n",
      "0  01/01/1986 00:00  0.65206\n",
      "1  01/01/1986 01:00  0.60341\n",
      "2  01/01/1986 02:00  0.52151\n",
      "3  01/01/1986 03:00  0.46460\n",
      "4  01/01/1986 04:00  0.41794\n",
      "               Date       DK\n",
      "0  01/01/1986 00:00  0.69450\n",
      "1  01/01/1986 01:00  0.67387\n",
      "2  01/01/1986 02:00  0.65254\n",
      "3  01/01/1986 03:00  0.64079\n",
      "4  01/01/1986 04:00  0.62641\n",
      "               Date       DE\n",
      "0  01/01/1986 00:00  0.64662\n",
      "1  01/01/1986 01:00  0.63756\n",
      "2  01/01/1986 02:00  0.62826\n",
      "3  01/01/1986 03:00  0.62038\n",
      "4  01/01/1986 04:00  0.61222\n"
     ]
    },
    {
     "name": "stderr",
     "output_type": "stream",
     "text": [
      "NL:   0%|                                                                                       | 0/30 [00:00<?, ?it/s]\n",
      "UK:   0%|                                                                                       | 0/30 [00:00<?, ?it/s]"
     ]
    },
    {
     "name": "stdout",
     "output_type": "stream",
     "text": [
      "               Date       NL\n",
      "0  01/01/1986 00:00  0.65980\n",
      "1  01/01/1986 01:00  0.64448\n",
      "2  01/01/1986 02:00  0.62745\n",
      "3  01/01/1986 03:00  0.60343\n",
      "4  01/01/1986 04:00  0.57977\n",
      "               Date       UK\n",
      "0  01/01/1986 00:00  0.44185\n",
      "1  01/01/1986 01:00  0.42026\n",
      "2  01/01/1986 02:00  0.38456\n",
      "3  01/01/1986 03:00  0.34960\n",
      "4  01/01/1986 04:00  0.31395\n"
     ]
    },
    {
     "name": "stderr",
     "output_type": "stream",
     "text": [
      "\n"
     ]
    }
   ],
   "source": [
    "for country in df.columns[6:]:\n",
    "    for year, ds in tqdm(df.groupby('Year'), desc=country):\n",
    "        \n",
    "        dset = ds[['Date', country]]\n",
    "        os.makedirs(f'data/processed/{country}', exist_ok=True)\n",
    "        (dset\n",
    "         .rename(columns={country: 'WindFactor'})\n",
    "        )\n",
    "        print(dset.head())\n",
    "        break\n",
    "#          .to_csv(f'data/processed/{country}/Offshore-{year}.csv', index=False)\n",
    "#         )"
   ]
  },
  {
   "cell_type": "code",
   "execution_count": null,
   "metadata": {},
   "outputs": [],
   "source": []
  }
 ],
 "metadata": {
  "kernelspec": {
   "display_name": "ge-2309",
   "language": "python",
   "name": "ge-2309"
  },
  "language_info": {
   "codemirror_mode": {
    "name": "ipython",
    "version": 3
   },
   "file_extension": ".py",
   "mimetype": "text/x-python",
   "name": "python",
   "nbconvert_exporter": "python",
   "pygments_lexer": "ipython3",
   "version": "3.8.5"
  }
 },
 "nbformat": 4,
 "nbformat_minor": 4
}
