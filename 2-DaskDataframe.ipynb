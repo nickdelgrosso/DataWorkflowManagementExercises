{
 "cells": [
  {
   "cell_type": "code",
   "execution_count": 4,
   "metadata": {},
   "outputs": [],
   "source": [
    "import pandas as pd\n",
    "from dask import delayed, compute, visualize\n",
    "import dask.dataframe as dd"
   ]
  },
  {
   "cell_type": "markdown",
   "metadata": {},
   "source": [
    "# Managing Challenges with Large Files\n",
    "## Load Dataset"
   ]
  },
  {
   "cell_type": "code",
   "execution_count": 2,
   "metadata": {},
   "outputs": [
    {
     "data": {
      "text/html": [
       "<div>\n",
       "<style scoped>\n",
       "    .dataframe tbody tr th:only-of-type {\n",
       "        vertical-align: middle;\n",
       "    }\n",
       "\n",
       "    .dataframe tbody tr th {\n",
       "        vertical-align: top;\n",
       "    }\n",
       "\n",
       "    .dataframe thead th {\n",
       "        text-align: right;\n",
       "    }\n",
       "</style>\n",
       "<table border=\"1\" class=\"dataframe\">\n",
       "  <thead>\n",
       "    <tr style=\"text-align: right;\">\n",
       "      <th></th>\n",
       "      <th>Time_step</th>\n",
       "      <th>Date</th>\n",
       "      <th>Year</th>\n",
       "      <th>Month</th>\n",
       "      <th>Day</th>\n",
       "      <th>Hour</th>\n",
       "      <th>AL</th>\n",
       "      <th>AT</th>\n",
       "      <th>BE</th>\n",
       "      <th>BG</th>\n",
       "      <th>...</th>\n",
       "      <th>NL</th>\n",
       "      <th>NO</th>\n",
       "      <th>PL</th>\n",
       "      <th>PT</th>\n",
       "      <th>RO</th>\n",
       "      <th>RS</th>\n",
       "      <th>SE</th>\n",
       "      <th>SI</th>\n",
       "      <th>SK</th>\n",
       "      <th>UK</th>\n",
       "    </tr>\n",
       "  </thead>\n",
       "  <tbody>\n",
       "    <tr>\n",
       "      <th>0</th>\n",
       "      <td>1</td>\n",
       "      <td>1986-01-01</td>\n",
       "      <td>1986</td>\n",
       "      <td>1</td>\n",
       "      <td>1</td>\n",
       "      <td>0</td>\n",
       "      <td>0.3685</td>\n",
       "      <td>0.06084</td>\n",
       "      <td>0.25200</td>\n",
       "      <td>0.23762</td>\n",
       "      <td>...</td>\n",
       "      <td>0.40628</td>\n",
       "      <td>0.26292</td>\n",
       "      <td>0.12015</td>\n",
       "      <td>0.22683</td>\n",
       "      <td>0.05124</td>\n",
       "      <td>0.25050</td>\n",
       "      <td>0.17086</td>\n",
       "      <td>0.67720</td>\n",
       "      <td>0.05715</td>\n",
       "      <td>0.268794</td>\n",
       "    </tr>\n",
       "    <tr>\n",
       "      <th>1</th>\n",
       "      <td>2</td>\n",
       "      <td>1986-01-01</td>\n",
       "      <td>1986</td>\n",
       "      <td>1</td>\n",
       "      <td>1</td>\n",
       "      <td>1</td>\n",
       "      <td>0.3235</td>\n",
       "      <td>0.05282</td>\n",
       "      <td>0.23841</td>\n",
       "      <td>0.23842</td>\n",
       "      <td>...</td>\n",
       "      <td>0.39115</td>\n",
       "      <td>0.26376</td>\n",
       "      <td>0.11985</td>\n",
       "      <td>0.25821</td>\n",
       "      <td>0.04665</td>\n",
       "      <td>0.24625</td>\n",
       "      <td>0.15909</td>\n",
       "      <td>0.66776</td>\n",
       "      <td>0.05218</td>\n",
       "      <td>0.270761</td>\n",
       "    </tr>\n",
       "    <tr>\n",
       "      <th>2</th>\n",
       "      <td>3</td>\n",
       "      <td>1986-01-01</td>\n",
       "      <td>1986</td>\n",
       "      <td>1</td>\n",
       "      <td>1</td>\n",
       "      <td>2</td>\n",
       "      <td>0.2735</td>\n",
       "      <td>0.04276</td>\n",
       "      <td>0.22110</td>\n",
       "      <td>0.23033</td>\n",
       "      <td>...</td>\n",
       "      <td>0.36163</td>\n",
       "      <td>0.26695</td>\n",
       "      <td>0.12113</td>\n",
       "      <td>0.27921</td>\n",
       "      <td>0.04543</td>\n",
       "      <td>0.23250</td>\n",
       "      <td>0.15296</td>\n",
       "      <td>0.65904</td>\n",
       "      <td>0.03905</td>\n",
       "      <td>0.265209</td>\n",
       "    </tr>\n",
       "    <tr>\n",
       "      <th>3</th>\n",
       "      <td>4</td>\n",
       "      <td>1986-01-01</td>\n",
       "      <td>1986</td>\n",
       "      <td>1</td>\n",
       "      <td>1</td>\n",
       "      <td>3</td>\n",
       "      <td>0.2600</td>\n",
       "      <td>0.02914</td>\n",
       "      <td>0.21491</td>\n",
       "      <td>0.24158</td>\n",
       "      <td>...</td>\n",
       "      <td>0.35170</td>\n",
       "      <td>0.27101</td>\n",
       "      <td>0.11858</td>\n",
       "      <td>0.33106</td>\n",
       "      <td>0.04455</td>\n",
       "      <td>0.20525</td>\n",
       "      <td>0.15328</td>\n",
       "      <td>0.58460</td>\n",
       "      <td>0.02130</td>\n",
       "      <td>0.257709</td>\n",
       "    </tr>\n",
       "    <tr>\n",
       "      <th>4</th>\n",
       "      <td>5</td>\n",
       "      <td>1986-01-01</td>\n",
       "      <td>1986</td>\n",
       "      <td>1</td>\n",
       "      <td>1</td>\n",
       "      <td>4</td>\n",
       "      <td>0.2530</td>\n",
       "      <td>0.01780</td>\n",
       "      <td>0.20304</td>\n",
       "      <td>0.26168</td>\n",
       "      <td>...</td>\n",
       "      <td>0.36168</td>\n",
       "      <td>0.28097</td>\n",
       "      <td>0.11101</td>\n",
       "      <td>0.38668</td>\n",
       "      <td>0.05438</td>\n",
       "      <td>0.20075</td>\n",
       "      <td>0.15013</td>\n",
       "      <td>0.46732</td>\n",
       "      <td>0.01029</td>\n",
       "      <td>0.247726</td>\n",
       "    </tr>\n",
       "  </tbody>\n",
       "</table>\n",
       "<p>5 rows × 42 columns</p>\n",
       "</div>"
      ],
      "text/plain": [
       "   Time_step       Date  Year  Month  Day  Hour      AL       AT       BE  \\\n",
       "0          1 1986-01-01  1986      1    1     0  0.3685  0.06084  0.25200   \n",
       "1          2 1986-01-01  1986      1    1     1  0.3235  0.05282  0.23841   \n",
       "2          3 1986-01-01  1986      1    1     2  0.2735  0.04276  0.22110   \n",
       "3          4 1986-01-01  1986      1    1     3  0.2600  0.02914  0.21491   \n",
       "4          5 1986-01-01  1986      1    1     4  0.2530  0.01780  0.20304   \n",
       "\n",
       "        BG  ...       NL       NO       PL       PT       RO       RS  \\\n",
       "0  0.23762  ...  0.40628  0.26292  0.12015  0.22683  0.05124  0.25050   \n",
       "1  0.23842  ...  0.39115  0.26376  0.11985  0.25821  0.04665  0.24625   \n",
       "2  0.23033  ...  0.36163  0.26695  0.12113  0.27921  0.04543  0.23250   \n",
       "3  0.24158  ...  0.35170  0.27101  0.11858  0.33106  0.04455  0.20525   \n",
       "4  0.26168  ...  0.36168  0.28097  0.11101  0.38668  0.05438  0.20075   \n",
       "\n",
       "        SE       SI       SK        UK  \n",
       "0  0.17086  0.67720  0.05715  0.268794  \n",
       "1  0.15909  0.66776  0.05218  0.270761  \n",
       "2  0.15296  0.65904  0.03905  0.265209  \n",
       "3  0.15328  0.58460  0.02130  0.257709  \n",
       "4  0.15013  0.46732  0.01029  0.247726  \n",
       "\n",
       "[5 rows x 42 columns]"
      ]
     },
     "execution_count": 2,
     "metadata": {},
     "output_type": "execute_result"
    }
   ],
   "source": [
    "df = pd.read_excel(\"data/orig/EMHIRES_WIND_COUNTRY_June2019.xlsx\")\n",
    "df.head()"
   ]
  },
  {
   "cell_type": "markdown",
   "metadata": {},
   "source": [
    "## Splitting on Data"
   ]
  },
  {
   "cell_type": "markdown",
   "metadata": {},
   "source": [
    "### Approach 1: Nested For-Loop"
   ]
  },
  {
   "cell_type": "code",
   "execution_count": null,
   "metadata": {},
   "outputs": [],
   "source": []
  },
  {
   "cell_type": "markdown",
   "metadata": {},
   "source": [
    "### Approach 2: Nested For-Loop + Dask Delayed"
   ]
  },
  {
   "cell_type": "code",
   "execution_count": null,
   "metadata": {},
   "outputs": [],
   "source": []
  },
  {
   "cell_type": "markdown",
   "metadata": {},
   "source": [
    "### Approach 3: Tidy Pipeline + For-Loop"
   ]
  },
  {
   "cell_type": "code",
   "execution_count": null,
   "metadata": {},
   "outputs": [],
   "source": []
  },
  {
   "cell_type": "markdown",
   "metadata": {},
   "source": [
    "### Approach 4: Tidy Pipeline + For-Loop + Dask Delayed"
   ]
  },
  {
   "cell_type": "code",
   "execution_count": null,
   "metadata": {},
   "outputs": [],
   "source": []
  },
  {
   "cell_type": "markdown",
   "metadata": {},
   "source": [
    "### Approach 5: Linearized Pipeline"
   ]
  },
  {
   "cell_type": "code",
   "execution_count": null,
   "metadata": {},
   "outputs": [],
   "source": []
  },
  {
   "cell_type": "markdown",
   "metadata": {},
   "source": [
    "### Approach 6: Linearized Pipeline + Dask DataFrame"
   ]
  },
  {
   "cell_type": "code",
   "execution_count": null,
   "metadata": {},
   "outputs": [],
   "source": []
  },
  {
   "cell_type": "markdown",
   "metadata": {},
   "source": [
    "## Working with Split Files Out-of-Core with Dask DataFrame\n",
    "When the data is consistently organized, Dask DataFrame lets you pretend that all the files are a single pandas dataframe, keeping code simple"
   ]
  },
  {
   "cell_type": "markdown",
   "metadata": {},
   "source": []
  }
 ],
 "metadata": {
  "kernelspec": {
   "display_name": "ge-2309",
   "language": "python",
   "name": "ge-2309"
  },
  "language_info": {
   "codemirror_mode": {
    "name": "ipython",
    "version": 3
   },
   "file_extension": ".py",
   "mimetype": "text/x-python",
   "name": "python",
   "nbconvert_exporter": "python",
   "pygments_lexer": "ipython3",
   "version": "3.8.5"
  }
 },
 "nbformat": 4,
 "nbformat_minor": 4
}
